{
 "cells": [
  {
   "cell_type": "code",
   "execution_count": null,
   "metadata": {},
   "outputs": [
    {
     "name": "stdout",
     "output_type": "stream",
     "text": [
      "🔹 Đang chạy trên: cpu\n"
     ]
    },
    {
     "name": "stderr",
     "output_type": "stream",
     "text": [
      "Device set to use cpu\n"
     ]
    }
   ],
   "source": [
    "import pandas as pd\n",
    "import torch\n",
    "from transformers import pipeline\n",
    "from bs4 import BeautifulSoup\n",
    "from multiprocessing import Pool\n",
    "\n",
    "# ---- CẤU HÌNH ----\n",
    "INPUT_FILE = \"data.xlsx\"  # File dữ liệu đầu vào (CSV hoặc Excel)\n",
    "OUTPUT_FILE = \"summary_results.json\"  # File lưu kết quả\n",
    "MAX_WORDS_PER_CHUNK = 500  # Giới hạn từ mỗi đoạn tóm tắt\n",
    "\n",
    "# ---- KIỂM TRA GPU ----\n",
    "device = \"cuda\" if torch.cuda.is_available() else \"cpu\"\n",
    "print(f\"🔹 Đang chạy trên: {device}\")\n",
    "\n",
    "# ---- LOAD MÔ HÌNH TÓM TẮT ----\n",
    "summarizer = pipeline(\"summarization\", model=\"facebook/bart-large-cnn\", device=0 if device == \"cuda\" else -1)\n",
    "\n",
    "# ---- HÀM TÓM TẮT ----\n",
    "def summarize_text(text, max_length=150, min_length=50):\n",
    "    \"\"\"Tóm tắt một đoạn văn bản\"\"\"\n",
    "    return summarizer(text, max_length=max_length, min_length=min_length, do_sample=False)[0]['summary_text']\n",
    "\n",
    "def extract_text(html_content):\n",
    "    \"\"\"Lấy văn bản sạch từ nội dung HTML\"\"\"\n",
    "    soup = BeautifulSoup(html_content, \"html.parser\")\n",
    "    return soup.get_text(separator=\" \", strip=True)\n",
    "\n",
    "def chunk_text(text, max_words=MAX_WORDS_PER_CHUNK):\n",
    "    \"\"\"Chia nhỏ văn bản dài để tóm tắt\"\"\"\n",
    "    words = text.split()\n",
    "    return [\" \".join(words[i:i+max_words]) for i in range(0, len(words), max_words)]\n",
    "\n",
    "def summarize_long_text(text):\n",
    "    \"\"\"Tóm tắt nội dung dài bằng cách chia nhỏ và tổng hợp\"\"\"\n",
    "    chunks = chunk_text(text)\n",
    "    summaries = [summarize_text(chunk) for chunk in chunks]\n",
    "    return \" \".join(summaries)\n",
    "\n",
    "def process_document(row):\n",
    "    \"\"\"Tóm tắt một dòng dữ liệu\"\"\"\n",
    "    raw_text = extract_text(row[\"Content\"])\n",
    "    summary = summarize_long_text(raw_text)\n",
    "\n",
    "    return {\n",
    "        \"title\": row[\"Title\"],\n",
    "        \"inner_title\": row[\"Inner Title\"],\n",
    "        \"link\": row[\"Link\"],\n",
    "        \"summary\": summary\n",
    "    }\n",
    "\n",
    "def process_all_data(num_workers=4):\n",
    "    \"\"\"Xử lý toàn bộ dữ liệu và lưu kết quả\"\"\"\n",
    "    data = pd.read_csv('courses_data/scikit_learn.csv')\n",
    "    \n",
    "    with Pool(num_workers) as p:  # Chạy đa luồng\n",
    "        results = p.map(process_document, data)\n",
    "\n",
    "    df = pd.DataFrame(results)\n",
    "    df.to_csv('out.csv', index=False, encoding=\"utf-8-sig\")\n",
    "\n",
    "    print(f\"✅ Đã lưu kết quả vào\")\n",
    "\n",
    "if __name__ == \"__main__\":\n",
    "    process_all_data()\n"
   ]
  },
  {
   "cell_type": "code",
   "execution_count": null,
   "metadata": {},
   "outputs": [],
   "source": []
  }
 ],
 "metadata": {
  "kernelspec": {
   "display_name": "Python 3",
   "language": "python",
   "name": "python3"
  },
  "language_info": {
   "codemirror_mode": {
    "name": "ipython",
    "version": 3
   },
   "file_extension": ".py",
   "mimetype": "text/x-python",
   "name": "python",
   "nbconvert_exporter": "python",
   "pygments_lexer": "ipython3",
   "version": "3.11.9"
  }
 },
 "nbformat": 4,
 "nbformat_minor": 2
}
